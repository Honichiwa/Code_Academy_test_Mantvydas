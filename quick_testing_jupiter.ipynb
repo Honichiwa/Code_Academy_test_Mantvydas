{
 "cells": [
  {
   "cell_type": "code",
   "execution_count": 1,
   "metadata": {},
   "outputs": [
    {
     "name": "stdout",
     "output_type": "stream",
     "text": [
      "Sveiki, aš esu Kęstutis, man yra 40 metų\n"
     ]
    }
   ],
   "source": [
    "vardas = \"Kęstutis\"\n",
    "amzius = 40\n",
    "tekstas = \"Sveiki, aš \" + \\\n",
    "    \"esu \" + vardas + \\\n",
    "    \", man yra \" + str(amzius) + ' metų'\n",
    "print(tekstas)"
   ]
  },
  {
   "cell_type": "code",
   "execution_count": null,
   "metadata": {},
   "outputs": [],
   "source": [
    "tekstas = f\"sveiki, aš esu {vardas}, man yra {amzius} metų\"\n",
    "print(tekstas)"
   ]
  },
  {
   "cell_type": "code",
   "execution_count": 2,
   "metadata": {},
   "outputs": [
    {
     "name": "stdout",
     "output_type": "stream",
     "text": [
      "\u001b[31mHello, world!\u001b[0m\n"
     ]
    }
   ],
   "source": [
    "text = '\\033[31mHello, world!\\033[0m'\n",
    "print(text)"
   ]
  }
 ],
 "metadata": {
  "kernelspec": {
   "display_name": "venv",
   "language": "python",
   "name": "python3"
  },
  "language_info": {
   "codemirror_mode": {
    "name": "ipython",
    "version": 3
   },
   "file_extension": ".py",
   "mimetype": "text/x-python",
   "name": "python",
   "nbconvert_exporter": "python",
   "pygments_lexer": "ipython3",
   "version": "3.10.3"
  },
  "orig_nbformat": 4
 },
 "nbformat": 4,
 "nbformat_minor": 2
}
